{
 "cells": [
  {
   "cell_type": "markdown",
   "id": "715e5240",
   "metadata": {},
   "source": [
    "# Spam Mail Prediction using logistic regression and naive bayes"
   ]
  },
  {
   "cell_type": "markdown",
   "id": "dbc5d1cd",
   "metadata": {},
   "source": [
    "Importing libraries"
   ]
  },
  {
   "cell_type": "code",
   "execution_count": 65,
   "id": "983a9bdd",
   "metadata": {},
   "outputs": [],
   "source": [
    "import numpy as np\n",
    "import pandas as pd\n",
    "from sklearn.model_selection import train_test_split\n",
    "from sklearn.feature_extraction.text import TfidfVectorizer\n",
    "from sklearn.linear_model import LogisticRegression\n",
    "from sklearn.naive_bayes import MultinomialNB\n",
    "from sklearn.metrics import accuracy_score"
   ]
  },
  {
   "cell_type": "markdown",
   "id": "f3428b95",
   "metadata": {},
   "source": [
    "Data Collection and Data Preprocessing"
   ]
  },
  {
   "cell_type": "code",
   "execution_count": 4,
   "id": "4b084f1b",
   "metadata": {},
   "outputs": [],
   "source": [
    "dataset = pd.read_csv(\"E:\\ML Projects\\mail_data.csv\")"
   ]
  },
  {
   "cell_type": "code",
   "execution_count": 7,
   "id": "5764bb4d",
   "metadata": {},
   "outputs": [
    {
     "data": {
      "text/html": [
       "<div>\n",
       "<style scoped>\n",
       "    .dataframe tbody tr th:only-of-type {\n",
       "        vertical-align: middle;\n",
       "    }\n",
       "\n",
       "    .dataframe tbody tr th {\n",
       "        vertical-align: top;\n",
       "    }\n",
       "\n",
       "    .dataframe thead th {\n",
       "        text-align: right;\n",
       "    }\n",
       "</style>\n",
       "<table border=\"1\" class=\"dataframe\">\n",
       "  <thead>\n",
       "    <tr style=\"text-align: right;\">\n",
       "      <th></th>\n",
       "      <th>Category</th>\n",
       "      <th>Message</th>\n",
       "    </tr>\n",
       "  </thead>\n",
       "  <tbody>\n",
       "    <tr>\n",
       "      <th>0</th>\n",
       "      <td>ham</td>\n",
       "      <td>Go until jurong point, crazy.. Available only ...</td>\n",
       "    </tr>\n",
       "    <tr>\n",
       "      <th>1</th>\n",
       "      <td>ham</td>\n",
       "      <td>Ok lar... Joking wif u oni...</td>\n",
       "    </tr>\n",
       "    <tr>\n",
       "      <th>2</th>\n",
       "      <td>spam</td>\n",
       "      <td>Free entry in 2 a wkly comp to win FA Cup fina...</td>\n",
       "    </tr>\n",
       "    <tr>\n",
       "      <th>3</th>\n",
       "      <td>ham</td>\n",
       "      <td>U dun say so early hor... U c already then say...</td>\n",
       "    </tr>\n",
       "    <tr>\n",
       "      <th>4</th>\n",
       "      <td>ham</td>\n",
       "      <td>Nah I don't think he goes to usf, he lives aro...</td>\n",
       "    </tr>\n",
       "  </tbody>\n",
       "</table>\n",
       "</div>"
      ],
      "text/plain": [
       "  Category                                            Message\n",
       "0      ham  Go until jurong point, crazy.. Available only ...\n",
       "1      ham                      Ok lar... Joking wif u oni...\n",
       "2     spam  Free entry in 2 a wkly comp to win FA Cup fina...\n",
       "3      ham  U dun say so early hor... U c already then say...\n",
       "4      ham  Nah I don't think he goes to usf, he lives aro..."
      ]
     },
     "execution_count": 7,
     "metadata": {},
     "output_type": "execute_result"
    }
   ],
   "source": [
    "dataset.head()"
   ]
  },
  {
   "cell_type": "code",
   "execution_count": 8,
   "id": "9238be57",
   "metadata": {},
   "outputs": [
    {
     "data": {
      "text/plain": [
       "(5572, 2)"
      ]
     },
     "execution_count": 8,
     "metadata": {},
     "output_type": "execute_result"
    }
   ],
   "source": [
    "dataset.shape"
   ]
  },
  {
   "cell_type": "code",
   "execution_count": 6,
   "id": "d1ff11e8",
   "metadata": {},
   "outputs": [
    {
     "data": {
      "text/html": [
       "<div>\n",
       "<style scoped>\n",
       "    .dataframe tbody tr th:only-of-type {\n",
       "        vertical-align: middle;\n",
       "    }\n",
       "\n",
       "    .dataframe tbody tr th {\n",
       "        vertical-align: top;\n",
       "    }\n",
       "\n",
       "    .dataframe thead th {\n",
       "        text-align: right;\n",
       "    }\n",
       "</style>\n",
       "<table border=\"1\" class=\"dataframe\">\n",
       "  <thead>\n",
       "    <tr style=\"text-align: right;\">\n",
       "      <th></th>\n",
       "      <th>Category</th>\n",
       "      <th>Message</th>\n",
       "    </tr>\n",
       "  </thead>\n",
       "  <tbody>\n",
       "    <tr>\n",
       "      <th>count</th>\n",
       "      <td>5572</td>\n",
       "      <td>5572</td>\n",
       "    </tr>\n",
       "    <tr>\n",
       "      <th>unique</th>\n",
       "      <td>2</td>\n",
       "      <td>5157</td>\n",
       "    </tr>\n",
       "    <tr>\n",
       "      <th>top</th>\n",
       "      <td>ham</td>\n",
       "      <td>Sorry, I'll call later</td>\n",
       "    </tr>\n",
       "    <tr>\n",
       "      <th>freq</th>\n",
       "      <td>4825</td>\n",
       "      <td>30</td>\n",
       "    </tr>\n",
       "  </tbody>\n",
       "</table>\n",
       "</div>"
      ],
      "text/plain": [
       "       Category                 Message\n",
       "count      5572                    5572\n",
       "unique        2                    5157\n",
       "top         ham  Sorry, I'll call later\n",
       "freq       4825                      30"
      ]
     },
     "execution_count": 6,
     "metadata": {},
     "output_type": "execute_result"
    }
   ],
   "source": [
    "dataset.describe()"
   ]
  },
  {
   "cell_type": "code",
   "execution_count": 9,
   "id": "98a556a4",
   "metadata": {},
   "outputs": [
    {
     "name": "stdout",
     "output_type": "stream",
     "text": [
      "<class 'pandas.core.frame.DataFrame'>\n",
      "RangeIndex: 5572 entries, 0 to 5571\n",
      "Data columns (total 2 columns):\n",
      " #   Column    Non-Null Count  Dtype \n",
      "---  ------    --------------  ----- \n",
      " 0   Category  5572 non-null   object\n",
      " 1   Message   5572 non-null   object\n",
      "dtypes: object(2)\n",
      "memory usage: 87.2+ KB\n"
     ]
    }
   ],
   "source": [
    "dataset.info()"
   ]
  },
  {
   "cell_type": "markdown",
   "id": "3f93bd13",
   "metadata": {},
   "source": [
    "# Label Encoding"
   ]
  },
  {
   "cell_type": "markdown",
   "id": "3753c9b7",
   "metadata": {},
   "source": [
    "label 'Spam' as 0 and 'Ham' as 1"
   ]
  },
  {
   "cell_type": "code",
   "execution_count": 15,
   "id": "68bf7b9e",
   "metadata": {},
   "outputs": [],
   "source": [
    "dataset.loc[dataset['Category']=='spam'] = 0"
   ]
  },
  {
   "cell_type": "code",
   "execution_count": 17,
   "id": "51bf1158",
   "metadata": {},
   "outputs": [],
   "source": [
    "dataset.loc[dataset['Category']=='ham'] = 1"
   ]
  },
  {
   "cell_type": "code",
   "execution_count": 18,
   "id": "44218742",
   "metadata": {},
   "outputs": [
    {
     "data": {
      "text/plain": [
       "0       1\n",
       "1       1\n",
       "2       0\n",
       "3       1\n",
       "4       1\n",
       "       ..\n",
       "5567    0\n",
       "5568    1\n",
       "5569    1\n",
       "5570    1\n",
       "5571    1\n",
       "Name: Category, Length: 5572, dtype: object"
      ]
     },
     "execution_count": 18,
     "metadata": {},
     "output_type": "execute_result"
    }
   ],
   "source": [
    "dataset[\"Category\"]"
   ]
  },
  {
   "cell_type": "markdown",
   "id": "13d4364a",
   "metadata": {},
   "source": [
    "Seperating text and labels"
   ]
  },
  {
   "cell_type": "code",
   "execution_count": 20,
   "id": "726cef0b",
   "metadata": {},
   "outputs": [],
   "source": [
    "X = dataset['Message']\n",
    "Y = dataset['Category']"
   ]
  },
  {
   "cell_type": "code",
   "execution_count": 22,
   "id": "dd531263",
   "metadata": {},
   "outputs": [
    {
     "data": {
      "text/plain": [
       "0       Go until jurong point, crazy.. Available only ...\n",
       "1                           Ok lar... Joking wif u oni...\n",
       "2       Free entry in 2 a wkly comp to win FA Cup fina...\n",
       "3       U dun say so early hor... U c already then say...\n",
       "4       Nah I don't think he goes to usf, he lives aro...\n",
       "                              ...                        \n",
       "5567    This is the 2nd time we have tried 2 contact u...\n",
       "5568                 Will ü b going to esplanade fr home?\n",
       "5569    Pity, * was in mood for that. So...any other s...\n",
       "5570    The guy did some bitching but I acted like i'd...\n",
       "5571                           Rofl. Its true to its name\n",
       "Name: Message, Length: 5572, dtype: object"
      ]
     },
     "execution_count": 22,
     "metadata": {},
     "output_type": "execute_result"
    }
   ],
   "source": [
    "X"
   ]
  },
  {
   "cell_type": "code",
   "execution_count": 23,
   "id": "36313cc8",
   "metadata": {},
   "outputs": [
    {
     "data": {
      "text/plain": [
       "0       1\n",
       "1       1\n",
       "2       0\n",
       "3       1\n",
       "4       1\n",
       "       ..\n",
       "5567    0\n",
       "5568    1\n",
       "5569    1\n",
       "5570    1\n",
       "5571    1\n",
       "Name: Category, Length: 5572, dtype: object"
      ]
     },
     "execution_count": 23,
     "metadata": {},
     "output_type": "execute_result"
    }
   ],
   "source": [
    "Y"
   ]
  },
  {
   "cell_type": "markdown",
   "id": "103d1957",
   "metadata": {},
   "source": [
    "# Splitting data into Training and Testing"
   ]
  },
  {
   "cell_type": "code",
   "execution_count": 25,
   "id": "ce129301",
   "metadata": {},
   "outputs": [],
   "source": [
    "X_train,X_test,Y_train,Y_test = train_test_split(X,Y,test_size = 0.2,random_state=0)"
   ]
  },
  {
   "cell_type": "code",
   "execution_count": 26,
   "id": "239517f2",
   "metadata": {},
   "outputs": [
    {
     "name": "stdout",
     "output_type": "stream",
     "text": [
      "(5572,) (4457,) (1115,)\n"
     ]
    }
   ],
   "source": [
    "print(X.shape,X_train.shape,X_test.shape)"
   ]
  },
  {
   "cell_type": "markdown",
   "id": "6f4db089",
   "metadata": {},
   "source": [
    "# Feature Extraction"
   ]
  },
  {
   "cell_type": "markdown",
   "id": "3578ff38",
   "metadata": {},
   "source": [
    "convert the text data into meaningful numerical data"
   ]
  },
  {
   "cell_type": "code",
   "execution_count": 28,
   "id": "42a9389e",
   "metadata": {},
   "outputs": [],
   "source": [
    "#data to feature vectors\n",
    "feature_extraction = TfidfVectorizer(min_df = 1, stop_words= 'english',lowercase=True)"
   ]
  },
  {
   "cell_type": "code",
   "execution_count": 32,
   "id": "fd766d89",
   "metadata": {},
   "outputs": [],
   "source": [
    "X_train_features = feature_extraction.fit_transform(X_train)\n",
    "X_test_features = feature_extraction.transform(X_test)"
   ]
  },
  {
   "cell_type": "code",
   "execution_count": 33,
   "id": "9b3e11f7",
   "metadata": {},
   "outputs": [],
   "source": [
    "#converting Y_train and Y_test to integers\n",
    "Y_train = Y_train.astype('int')\n",
    "Y_test = Y_test.astype('int')"
   ]
  },
  {
   "cell_type": "code",
   "execution_count": 36,
   "id": "5660ed78",
   "metadata": {},
   "outputs": [
    {
     "name": "stdout",
     "output_type": "stream",
     "text": [
      "  (0, 3422)\t0.6418008618863358\n",
      "  (0, 3960)\t0.40459749284424307\n",
      "  (0, 4776)\t0.2937599690543961\n",
      "  (0, 4486)\t0.4933198981059812\n",
      "  (0, 3101)\t0.30778739607068667\n",
      "  (1, 3855)\t0.4410710256765374\n",
      "  (1, 4574)\t0.4410710256765374\n",
      "  (1, 2534)\t0.4410710256765374\n",
      "  (1, 814)\t0.4410710256765374\n",
      "  (1, 4555)\t0.4205367990464199\n",
      "  (1, 2902)\t0.2120712188920981\n",
      "  (2, 3398)\t0.5133141633463273\n",
      "  (2, 1317)\t0.34462014146959175\n",
      "  (2, 432)\t0.4077104256374456\n",
      "  (2, 4294)\t0.36445133334144264\n",
      "  (2, 2503)\t0.5133141633463273\n",
      "  (2, 4776)\t0.2349500626979615\n",
      "  (3, 1138)\t0.6489221209014988\n",
      "  (3, 1160)\t0.44843330753299465\n",
      "  (3, 3378)\t0.38536596088088965\n",
      "  (3, 3118)\t0.3618113574629584\n",
      "  (3, 3778)\t0.31367701143832527\n",
      "  (4, 3805)\t1.0\n",
      "  (5, 3731)\t0.6020708068994186\n",
      "  (5, 7381)\t0.7984426989330436\n",
      "  :\t:\n",
      "  (4454, 348)\t0.2816333253882664\n",
      "  (4454, 110)\t0.3000941484572203\n",
      "  (4454, 2067)\t0.25658354936739225\n",
      "  (4454, 4488)\t0.3000941484572203\n",
      "  (4454, 651)\t0.3000941484572203\n",
      "  (4454, 373)\t0.23959800001827322\n",
      "  (4454, 796)\t0.2816333253882664\n",
      "  (4454, 7430)\t0.1801037942222884\n",
      "  (4454, 7343)\t0.4498896407891956\n",
      "  (4454, 6911)\t0.1653057679612594\n",
      "  (4454, 6902)\t0.21937394005137992\n",
      "  (4454, 1621)\t0.18784292855815676\n",
      "  (4454, 7311)\t0.1949753381818719\n",
      "  (4454, 1665)\t0.21130971337962476\n",
      "  (4454, 7011)\t0.14040083857773877\n",
      "  (4455, 2434)\t0.617585164773377\n",
      "  (4455, 5750)\t0.5526101356478642\n",
      "  (4455, 4311)\t0.3634744995680554\n",
      "  (4455, 3424)\t0.4255548030452034\n",
      "  (4456, 6077)\t0.5490155787253892\n",
      "  (4456, 4416)\t0.4542018586423069\n",
      "  (4456, 2724)\t0.40079007123433724\n",
      "  (4456, 5910)\t0.3950554110813791\n",
      "  (4456, 6769)\t0.2873431830527075\n",
      "  (4456, 2135)\t0.30498360947948605\n"
     ]
    }
   ],
   "source": [
    "print(X_train_features)"
   ]
  },
  {
   "cell_type": "code",
   "execution_count": 37,
   "id": "4fdc5563",
   "metadata": {},
   "outputs": [
    {
     "data": {
      "text/plain": [
       "1114    1\n",
       "3589    1\n",
       "3095    1\n",
       "1012    1\n",
       "3320    1\n",
       "       ..\n",
       "4931    0\n",
       "3264    1\n",
       "1653    0\n",
       "2607    1\n",
       "2732    1\n",
       "Name: Category, Length: 4457, dtype: int32"
      ]
     },
     "execution_count": 37,
     "metadata": {},
     "output_type": "execute_result"
    }
   ],
   "source": [
    "Y_train"
   ]
  },
  {
   "cell_type": "markdown",
   "id": "38482a9b",
   "metadata": {},
   "source": [
    "# Training the Model"
   ]
  },
  {
   "cell_type": "markdown",
   "id": "c9c0cae8",
   "metadata": {},
   "source": [
    "Logistic Regression VS Naive Bayes"
   ]
  },
  {
   "cell_type": "code",
   "execution_count": 38,
   "id": "62a8dde9",
   "metadata": {},
   "outputs": [],
   "source": [
    "model = LogisticRegression()"
   ]
  },
  {
   "cell_type": "code",
   "execution_count": 40,
   "id": "afafe57c",
   "metadata": {},
   "outputs": [
    {
     "data": {
      "text/plain": [
       "LogisticRegression()"
      ]
     },
     "execution_count": 40,
     "metadata": {},
     "output_type": "execute_result"
    }
   ],
   "source": [
    "model.fit(X_train_features,Y_train)"
   ]
  },
  {
   "cell_type": "code",
   "execution_count": 66,
   "id": "2ae1615e",
   "metadata": {},
   "outputs": [],
   "source": [
    "model1 = MultinomialNB()"
   ]
  },
  {
   "cell_type": "code",
   "execution_count": 67,
   "id": "c903c3c7",
   "metadata": {},
   "outputs": [
    {
     "data": {
      "text/plain": [
       "MultinomialNB()"
      ]
     },
     "execution_count": 67,
     "metadata": {},
     "output_type": "execute_result"
    }
   ],
   "source": [
    "model1.fit(X_train_features,Y_train)"
   ]
  },
  {
   "cell_type": "markdown",
   "id": "598a5953",
   "metadata": {},
   "source": [
    "# Evaluating the Model"
   ]
  },
  {
   "cell_type": "markdown",
   "id": "9749d124",
   "metadata": {},
   "source": [
    "Logistic Regression"
   ]
  },
  {
   "cell_type": "code",
   "execution_count": 76,
   "id": "57ed7e82",
   "metadata": {},
   "outputs": [
    {
     "data": {
      "text/plain": [
       "0.9679156383217411"
      ]
     },
     "execution_count": 76,
     "metadata": {},
     "output_type": "execute_result"
    }
   ],
   "source": [
    "#prediction on training data \n",
    "LG_X_train_pred = model.predict(X_train_features)\n",
    "LG_training_accuracy = accuracy_score(LG_X_train_pred,Y_train)\n",
    "LG_training_accuracy"
   ]
  },
  {
   "cell_type": "code",
   "execution_count": 81,
   "id": "095726da",
   "metadata": {},
   "outputs": [
    {
     "data": {
      "text/plain": [
       "0.9668161434977578"
      ]
     },
     "execution_count": 81,
     "metadata": {},
     "output_type": "execute_result"
    }
   ],
   "source": [
    "#prediction on testing data\n",
    "LG_X_test_pred = model.predict(X_test_features)\n",
    "LG_testing_accuracy = accuracy_score(LG_X_test_pred,Y_test)\n",
    "LG_testing_accuracy "
   ]
  },
  {
   "cell_type": "markdown",
   "id": "d797cfb0",
   "metadata": {},
   "source": [
    "Naive Bayes"
   ]
  },
  {
   "cell_type": "code",
   "execution_count": 82,
   "id": "56849363",
   "metadata": {},
   "outputs": [
    {
     "data": {
      "text/plain": [
       "0.9816019744222572"
      ]
     },
     "execution_count": 82,
     "metadata": {},
     "output_type": "execute_result"
    }
   ],
   "source": [
    "#prediction on training data \n",
    "NB_X_train_pred = model1.predict(X_train_features)\n",
    "NB_training_accuracy = accuracy_score(NB_X_train_pred,Y_train)\n",
    "NB_training_accuracy"
   ]
  },
  {
   "cell_type": "code",
   "execution_count": 84,
   "id": "da8faae1",
   "metadata": {},
   "outputs": [
    {
     "data": {
      "text/plain": [
       "0.9757847533632287"
      ]
     },
     "execution_count": 84,
     "metadata": {},
     "output_type": "execute_result"
    }
   ],
   "source": [
    "NB_X_test_pred = model1.predict(X_test_features)\n",
    "NB_testing_accuracy = accuracy_score(NB_X_test_pred,Y_test)\n",
    "NB_testing_accuracy "
   ]
  },
  {
   "cell_type": "markdown",
   "id": "2293e1f5",
   "metadata": {},
   "source": [
    "# Build a Predictive System"
   ]
  },
  {
   "cell_type": "raw",
   "id": "db8a2123",
   "metadata": {},
   "source": [
    "ham --> 1\n",
    "spam --> 0"
   ]
  },
  {
   "cell_type": "code",
   "execution_count": 86,
   "id": "b739cbe2",
   "metadata": {},
   "outputs": [],
   "source": [
    "input_data = ['Going for dinner.msg you after.']\n",
    "\n",
    "#transform text to feature vectors\n",
    "input_data_features = feature_extraction.transform(input_data)"
   ]
  },
  {
   "cell_type": "code",
   "execution_count": 87,
   "id": "e5aee468",
   "metadata": {},
   "outputs": [],
   "source": [
    "#prediction using Logistic Regression\n",
    "prediction1 = model.predict(input_data_features)"
   ]
  },
  {
   "cell_type": "code",
   "execution_count": 88,
   "id": "da437bd5",
   "metadata": {},
   "outputs": [],
   "source": [
    "#prediction using Naive Bayes \n",
    "prediction2 = model1.predict(input_data_features)"
   ]
  },
  {
   "cell_type": "code",
   "execution_count": 89,
   "id": "ac8eba9b",
   "metadata": {},
   "outputs": [
    {
     "data": {
      "text/plain": [
       "array([1])"
      ]
     },
     "execution_count": 89,
     "metadata": {},
     "output_type": "execute_result"
    }
   ],
   "source": [
    "prediction1"
   ]
  },
  {
   "cell_type": "code",
   "execution_count": 91,
   "id": "d8206571",
   "metadata": {},
   "outputs": [
    {
     "data": {
      "text/plain": [
       "array([1])"
      ]
     },
     "execution_count": 91,
     "metadata": {},
     "output_type": "execute_result"
    }
   ],
   "source": [
    "prediction2"
   ]
  },
  {
   "cell_type": "code",
   "execution_count": 90,
   "id": "0337d5ae",
   "metadata": {},
   "outputs": [
    {
     "name": "stdout",
     "output_type": "stream",
     "text": [
      "The mail is HAM\n"
     ]
    }
   ],
   "source": [
    "if prediction1[0]==1:\n",
    "    print('The mail is HAM')\n",
    "else:\n",
    "    print('The mail is SPAM')"
   ]
  },
  {
   "cell_type": "code",
   "execution_count": 92,
   "id": "5a1c97f0",
   "metadata": {},
   "outputs": [
    {
     "name": "stdout",
     "output_type": "stream",
     "text": [
      "The mail is HAM\n"
     ]
    }
   ],
   "source": [
    "if prediction2[0]==1:\n",
    "    print('The mail is HAM')\n",
    "else:\n",
    "    print('The mail is SPAM')"
   ]
  },
  {
   "cell_type": "markdown",
   "id": "d770bd15",
   "metadata": {},
   "source": [
    "The Accuracy Scores for both logistic regression and naive bayes are almost similar but when compared to logistic regression, Naive Bayes gives the best Accuracy Score"
   ]
  }
 ],
 "metadata": {
  "kernelspec": {
   "display_name": "Python 3 (ipykernel)",
   "language": "python",
   "name": "python3"
  },
  "language_info": {
   "codemirror_mode": {
    "name": "ipython",
    "version": 3
   },
   "file_extension": ".py",
   "mimetype": "text/x-python",
   "name": "python",
   "nbconvert_exporter": "python",
   "pygments_lexer": "ipython3",
   "version": "3.9.7"
  }
 },
 "nbformat": 4,
 "nbformat_minor": 5
}
